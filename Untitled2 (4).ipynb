{
 "cells": [
  {
   "cell_type": "code",
   "execution_count": null,
   "id": "6d9b714d-25ac-4749-8321-5218218a307f",
   "metadata": {},
   "outputs": [],
   "source": []
  },
  {
   "cell_type": "code",
   "execution_count": 1,
   "id": "cb0e015b-a750-46e4-a0d8-006dd2ec2465",
   "metadata": {},
   "outputs": [],
   "source": [
    "class vehicle:\n",
    "    def __init__(self,name_of_vehicle,max_speed,average_of_speed):\n",
    "        self.name_of_vehicle=name_of_vehicle\n",
    "        self.max_speed=max_speed\n",
    "        self.average_of_speed=average_of_speed\n",
    "        \n",
    "    def seating_capacity(self,capacity=50):\n",
    "        return f\"the capacity of {self.name_of_vehicle} is {capacity} of passengers\" "
   ]
  },
  {
   "cell_type": "code",
   "execution_count": 2,
   "id": "48dbb607-f714-4012-8aaa-9759bfacf855",
   "metadata": {},
   "outputs": [],
   "source": [
    "c = vehicle('toyota',50,56)"
   ]
  },
  {
   "cell_type": "code",
   "execution_count": 3,
   "id": "f043b00f-042e-4a26-a2ae-d29a020a475a",
   "metadata": {},
   "outputs": [
    {
     "data": {
      "text/plain": [
       "'the capacity of toyota is 50 of passengers'"
      ]
     },
     "execution_count": 3,
     "metadata": {},
     "output_type": "execute_result"
    }
   ],
   "source": [
    "\n",
    "\n",
    "\n",
    "c.seating_capacity(50)"
   ]
  },
  {
   "cell_type": "code",
   "execution_count": 4,
   "id": "2831e7e2-66a9-4f72-af4e-a31a706698d9",
   "metadata": {},
   "outputs": [],
   "source": [
    "#q3'''When a class is derived from more than one base class it is called multiple Inheritance. The derived class inherits all the features of the base case.'''"
   ]
  },
  {
   "cell_type": "code",
   "execution_count": 5,
   "id": "f4dc0fc7-7946-4fe9-9c4e-18979daf2617",
   "metadata": {},
   "outputs": [],
   "source": [
    "class class1:\n",
    "    def m(self):\n",
    "        print(\" in class1\")\n",
    "        \n",
    "class class2(class1):\n",
    "    def m(self):\n",
    "        print(\"IN class2\")\n",
    "    \n",
    "class class3(class1):\n",
    "    def m(self):\n",
    "        print(\"IN class3\")\n",
    "        \n",
    "class class4(class2,class3):\n",
    "    pass"
   ]
  },
  {
   "cell_type": "code",
   "execution_count": 6,
   "id": "3024262e-4043-42a7-9d6c-6ccb5178879f",
   "metadata": {},
   "outputs": [],
   "source": [
    "obj = class4()"
   ]
  },
  {
   "cell_type": "code",
   "execution_count": 7,
   "id": "460e90ce-5179-49fe-8786-af4d462d71ec",
   "metadata": {},
   "outputs": [
    {
     "name": "stdout",
     "output_type": "stream",
     "text": [
      "IN class2\n"
     ]
    }
   ],
   "source": [
    "obj.m()"
   ]
  },
  {
   "cell_type": "code",
   "execution_count": 8,
   "id": "67281882-7704-4e7c-a89e-27c7214ae406",
   "metadata": {},
   "outputs": [
    {
     "data": {
      "text/plain": [
       "'In Python, getters and setters are not the same as those in other object-oriented programming languages. Basically, the main purpose of using getters and setters in object-oriented programs is to ensure data encapsulation. Private variables in python are not actually hidden fields like in other object oriented languages. Getters and Setters in python are often used when:\\n\\nWe use getters & setters to add validation logic around getting and setting a value.\\nTo avoid direct access of a class field i.e. private variables cannot be accessed directly or modified by external user.'"
      ]
     },
     "execution_count": 8,
     "metadata": {},
     "output_type": "execute_result"
    }
   ],
   "source": [
    "#4\n",
    "'''In Python, getters and setters are not the same as those in other object-oriented programming languages. Basically, the main purpose of using getters and setters in object-oriented programs is to ensure data encapsulation. Private variables in python are not actually hidden fields like in other object oriented languages. Getters and Setters in python are often used when:\n",
    "\n",
    "We use getters & setters to add validation logic around getting and setting a value.\n",
    "To avoid direct access of a class field i.e. private variables cannot be accessed directly or modified by external user.'''"
   ]
  },
  {
   "cell_type": "code",
   "execution_count": 9,
   "id": "6700f771-f1e2-430a-b7c2-330d631a5273",
   "metadata": {},
   "outputs": [],
   "source": [
    "class pwskill():\n",
    "    \n",
    "    def __init__(self,age=0):\n",
    "        self._age=0\n",
    "        \n",
    "    def set_age(self,a):\n",
    "        self._age=a\n",
    "        \n",
    "    def get_age (self):\n",
    "        return self._age\n",
    "    \n",
    "        "
   ]
  },
  {
   "cell_type": "code",
   "execution_count": 10,
   "id": "133afc03-84f0-4775-becd-4cdb9dfa8f88",
   "metadata": {},
   "outputs": [],
   "source": [
    "obj=pwskill()"
   ]
  },
  {
   "cell_type": "code",
   "execution_count": 11,
   "id": "b91c2704-92b5-4951-b652-9ac83e2f8b40",
   "metadata": {},
   "outputs": [],
   "source": [
    "obj.set_age(40)"
   ]
  },
  {
   "cell_type": "code",
   "execution_count": 13,
   "id": "c0e8b4b5-ec19-48ad-9cb7-6f602a076974",
   "metadata": {},
   "outputs": [
    {
     "data": {
      "text/plain": [
       "40"
      ]
     },
     "execution_count": 13,
     "metadata": {},
     "output_type": "execute_result"
    }
   ],
   "source": [
    "obj.get_age()"
   ]
  },
  {
   "cell_type": "code",
   "execution_count": 14,
   "id": "4a630b19-1bb2-48da-870a-30c93b2a45c8",
   "metadata": {},
   "outputs": [
    {
     "data": {
      "text/plain": [
       "'Method overriding is an ability of any object-oriented programming language that allows a subclass or child class to provide a specific implementation of a method that is already provided by one of its super-classes or parent classes. When a method in a subclass has the same name, same parameters or signature and same return type(or sub-type) as a method in its super-class, then the method in the subclass is said to override the method in the super-class.'"
      ]
     },
     "execution_count": 14,
     "metadata": {},
     "output_type": "execute_result"
    }
   ],
   "source": [
    "#q5\n",
    "'''Method overriding is an ability of any object-oriented programming language that allows a subclass or child class to provide a specific implementation of a method that is already provided by one of its super-classes or parent classes. When a method in a subclass has the same name, same parameters or signature and same return type(or sub-type) as a method in its super-class, then the method in the subclass is said to override the method in the super-class.'''"
   ]
  },
  {
   "cell_type": "code",
   "execution_count": 1,
   "id": "fecaef5b-04f3-4983-892f-2e61cdd24bad",
   "metadata": {},
   "outputs": [],
   "source": [
    "class parent:\n",
    "    \n",
    "    def anything():\n",
    "        print('function defined in parent class!')\n",
    "        \n",
    "class child(parent):\n",
    "    pass"
   ]
  },
  {
   "cell_type": "code",
   "execution_count": null,
   "id": "9e94f121-e8ba-404a-bc23-3dea76e7ee1c",
   "metadata": {},
   "outputs": [],
   "source": [
    "obj2=child()\n",
    "obj2."
   ]
  }
 ],
 "metadata": {
  "kernelspec": {
   "display_name": "Python 3 (ipykernel)",
   "language": "python",
   "name": "python3"
  },
  "language_info": {
   "codemirror_mode": {
    "name": "ipython",
    "version": 3
   },
   "file_extension": ".py",
   "mimetype": "text/x-python",
   "name": "python",
   "nbconvert_exporter": "python",
   "pygments_lexer": "ipython3",
   "version": "3.10.8"
  }
 },
 "nbformat": 4,
 "nbformat_minor": 5
}
